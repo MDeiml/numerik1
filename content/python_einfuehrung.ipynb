{
 "cells": [
  {
   "cell_type": "markdown",
   "id": "ea27f134-9939-4279-a48d-ca3ae6e180b4",
   "metadata": {
    "editable": true,
    "slideshow": {
     "slide_type": ""
    },
    "tags": []
   },
   "source": [
    "# Einführung in Python / Jupyter notebooks\n",
    "\n",
    "Dieses Dokument ist ein sogenanntes *Jupyter notebook*. Es besteht aus unterschiedlichen Blöcke, die entweder Text oder Python Code enthalten. \n",
    "\n",
    "Wenn man eine Anwendung in Python programmiert würde man normalerweise sogenannte `.py` Daten schreiben, die nur Code enthalten, aber für die Zwecke dieser Vorlesung und Übung eignen sich Jupyter Notebooks mehr.\n",
    "\n",
    "## Ausführen von Codeblöcken\n",
    "\n",
    "Codeblöcke können, nachdem man sie angeklickt hat, mit dem Play icon an der oberen Leiste ausgeführt werden. Das doppelte Play icon setzt alle Variablen zurück und führt dann alle Codeblöcke aus. Die Ausgabe des Codes, sowie der Wert der letzten Zeile erscheinen unter dem jeweiligen Block."
   ]
  },
  {
   "cell_type": "code",
   "execution_count": null,
   "id": "754945de-badc-4332-826c-542618cbd6f5",
   "metadata": {
    "editable": true,
    "slideshow": {
     "slide_type": ""
    },
    "tags": []
   },
   "outputs": [],
   "source": [
    "print(\"Hallo\")\n",
    "a = \"Welt\" + \"!\"\n",
    "a"
   ]
  },
  {
   "cell_type": "markdown",
   "id": "de3db376-ff08-43ed-b228-ba47138098e9",
   "metadata": {
    "deletable": false,
    "editable": false,
    "slideshow": {
     "slide_type": ""
    },
    "tags": []
   },
   "source": [
    "In manchen Blöcken, wie diesem Textblock, ist die Bearbeitung deaktiviert. In den Aufgaben soll das dafür sorgen, dass Sie nicht ausversehen das Testskript oder den Aufgabentext ändern."
   ]
  },
  {
   "cell_type": "markdown",
   "id": "610e3e3e-5a0e-47fc-9f7d-cebda95eaf95",
   "metadata": {
    "editable": true,
    "slideshow": {
     "slide_type": ""
    },
    "tags": []
   },
   "source": [
    "## Herunterladen von Dateien\n",
    "\n",
    "Die Dateien sind in Ihrem Browser auf Ihrem Computer gespeichert. Sie bleiben bestehen, wenn Sie den Tab / Browser schließen. Um Ihren Code mit jemandem zu Teilen (oder die Aufgaben abzugeben) können Sie die `.ipynb` (Jupyter notebook) Datei herungerladne. Dies ist durch Rechtsklick auf die Datei im Reiter links möglich. Eben so können Sie über das Icon mit Pfeil nach oben `.ipynb` Dateien \"hochladen\"."
   ]
  },
  {
   "cell_type": "markdown",
   "id": "5bd53ba1-f5c2-424d-b29b-92da8166b55b",
   "metadata": {},
   "source": [
    "## Mathematische Grundfunktionen\n",
    "\n",
    "Die Grundrechenarten werden mit den Operatoren `+`, `-`, `*`, `/` realisiert, während `**` der Potenzoperator ist. Klammern `( )` werden zur Argumentübergabe und zum Gruppieren von Ausdrücken benutzt. Wichtige Funktionen sind `abs` für $| \\cdot |$, `min` und `max`. Nach dem folgenden Codeblock stehen außerdem die Funktionen $\\sqrt{}$ , $\\log$, $\\exp$, $\\sin$ sowie die Zahlen $\\pi$ und $e$ zur Verfügung. Eine Übersicht über alle Funktionen des math-Pakets findet man unter https://docs.python.org/3.10/library/math.html ."
   ]
  },
  {
   "cell_type": "code",
   "execution_count": null,
   "id": "912d17cc-d2b9-44c7-af54-3d0a52d350e9",
   "metadata": {},
   "outputs": [],
   "source": [
    "from math import sqrt, log, exp, sin, pi, e"
   ]
  },
  {
   "cell_type": "markdown",
   "id": "bd70d7ec-393d-4dbd-be27-9b2b05c227be",
   "metadata": {},
   "source": [
    "Berechnen sie im folgenden Codeblock\n",
    "\n",
    "1. $(3 \\cdot 5)^2 - 3$ und $3 \\cdot 5^{2 - 3}$; $(-3)^4$; $-3^4$ und $\\lvert-3^4\\rvert$\n",
    "2. $\\sin(2\\pi)$; $\\exp(\\log(2.4))$; $e^\\pi - \\pi$; $\\sqrt{(-4)^2}$; $\\min(0, -2, 5)$."
   ]
  },
  {
   "cell_type": "code",
   "execution_count": null,
   "id": "6ce29af8-d5df-4834-bfa7-54699eac529d",
   "metadata": {},
   "outputs": [],
   "source": [
    "v1a = \n",
    "v1b = \n",
    "v1c = \n",
    "v1d = \n",
    "v1e = \n",
    "print(v1a, v1b, v1c, v1d, v1e)\n",
    "\n",
    "v2a = \n",
    "v2b = \n",
    "v2c = \n",
    "v2d = \n",
    "v2e = \n",
    "print(v2a, v2b, v2c, v2d, v2e)"
   ]
  },
  {
   "cell_type": "markdown",
   "id": "891c2e93-f861-41ed-95e2-d03c0279797d",
   "metadata": {},
   "source": [
    "Man betrachte folgende Projection $P \\colon \\mathbb{R} \\to [a, b] \\subset \\mathbb{R}$ auf das Interval $[a, b]$:\n",
    "\n",
    "$$\n",
    "P(x) = \\begin{cases}\n",
    "a, & x < a \\\\\n",
    "x, & x \\le x \\le b \\\\\n",
    "b, & x > b.\n",
    "\\end{cases}\n",
    "$$\n",
    "\n",
    "Verwenden Sie `min` und max, um $P(x)$ für $[a, b] := [0, 2]$ zu realisieren, und testen Sie ihre Lösung anhand selbstgewählter $x$.\n",
    "\n",
    "> **Hinweis**: `f = lambda x, y: x**2 - y` (lambda generiert eine sog. Inline-Funktion) definiert die Beispielfunktion $f(x, y) = x^2 − y$, die dann im Folgenden aufgerufen werden kann."
   ]
  },
  {
   "cell_type": "code",
   "execution_count": null,
   "id": "45a692db-fb82-494d-b9d7-2bacbd8a4075",
   "metadata": {},
   "outputs": [],
   "source": [
    "a = 0\n",
    "b = 2\n",
    "P = lambda x:\n",
    "\n",
    "print(P(...))"
   ]
  },
  {
   "cell_type": "markdown",
   "id": "81dda172-fea4-4673-9bd4-e73e4c74b2a1",
   "metadata": {},
   "source": [
    "> Man beachte die Unterscheidung zwischen *int* (integers = ganze Zahlen, z.B. 1) und *float* (floatingpoint numbers = Gleitkommazahlen, z.B. `1.0`; Achtung: im Gegensatz zur Bezeichnung im Deutschen ist ein Punkt zu verwenden).\n",
    "\n",
    "Berechnen Sie $8 \\cdot \\frac{3-4}{2} \\cdot 5$ und $8 \\cdot 3 \\ \\frac{-4}{2 \\cdot 5}$ als reelle Zahlen."
   ]
  },
  {
   "cell_type": "code",
   "execution_count": null,
   "id": "74a72983-935e-434a-ae84-f58b95f05b95",
   "metadata": {},
   "outputs": [],
   "source": [
    "v1 = \n",
    "print(v1)\n",
    "v2 = \n",
    "print(v2)"
   ]
  },
  {
   "cell_type": "markdown",
   "id": "41c9fe03-925d-401e-abd2-1e87d49f1fa7",
   "metadata": {},
   "source": [
    "## Die Programmbibliothek numpy\n",
    "\n",
    "Die Bibliothek NumPy enthält viele nützliche Funktionen, die u.a. in der numerischen linearen Algebra wichtig sind."
   ]
  },
  {
   "cell_type": "code",
   "execution_count": null,
   "id": "11987f68-549b-44d1-9482-d2354356be80",
   "metadata": {},
   "outputs": [],
   "source": [
    "import numpy as np"
   ]
  },
  {
   "cell_type": "markdown",
   "id": "ee84726b-b31c-4cd2-9331-a1c9c72fc875",
   "metadata": {},
   "source": [
    "Die NumPy-Klasse array kann verwendet werden, um Matrizen und Vektoren zuzuweisen und zu manipulieren, wie es beispielsweise im Kapitel über lineare Gleichungssysteme vorkommt. So definiert\n",
    "```\n",
    "A = np.array([[1., 2, 3],[0, 8, -7]])\n",
    "```\n",
    "oder\n",
    "```\n",
    "A = np.array([[1, 2, 3],[0, 8, -7]], dtype=float)\n",
    "```\n",
    "die Matrix\n",
    "$$A \\, = \\, \\left( \\begin{array}{rrr} 1 & 2 & 3\\\\ 0 & 8 & -7 \\end{array}\\right) \\in \\mathbb{R}^{2 \\times 3}$$\n",
    "(nicht aber `A = np.array([[1, 2, 3],[0, 8, -7]])`, dann ist $A \\in \\mathbb{Z}^{2\\times 3}$)."
   ]
  },
  {
   "cell_type": "code",
   "execution_count": null,
   "id": "e078c87f-c42d-49c8-b6d6-1e589af0f832",
   "metadata": {},
   "outputs": [],
   "source": [
    "A = np.array([[1., 2, 3],[0, 8, -7]])\n",
    "print(A)\n",
    "A_int = np.array([[1, 2, 3],[0, 8, -7]])\n",
    "print(A_int)"
   ]
  },
  {
   "cell_type": "markdown",
   "id": "881f6d08-5c5e-41be-aa97-572409424c5f",
   "metadata": {},
   "source": [
    "Der Befehl `u = np.array([1., 2, 8])` definiert einen Vektor $u \\in \\mathbb{R}^3$. Man beachte hierbei, dass für `np.array` eindimensionale Arrays generell als Zeilenvektoren aufgefasst werden und daher nicht zwischen Spalten- und Zeilenvektor unterschieden wird.\n",
    "\n",
    "> Auch nicht durch Transponieren mittels `.T`, siehe unten.\n",
    "\n",
    "Der Operator `@` führt Matrix-Matrix- (z.B. `A @ B`) und Matrix-Vektor- (`A @ v`) Multiplikationen durch.\n",
    "\n",
    "Definieren Sie sich mittels `np.array` die Vektoren\n",
    "$$ u = \\begin{bmatrix} 0 \\\\ 5 \\\\ -4 \\end{bmatrix}, \\qquad v = \\begin{bmatrix} 0.2 \\\\ 3 \\\\ 6 \\end{bmatrix}$$\n",
    "und berechnen Sie $Au$. Weshalb liefert `A.T @ u` (A.T liefert die Transponierte von A) eine Fehlermeldung?"
   ]
  },
  {
   "cell_type": "code",
   "execution_count": null,
   "id": "56f36b1f-6f34-4545-900c-0aab8ef21a33",
   "metadata": {},
   "outputs": [],
   "source": [
    "u = \n",
    "v = \n",
    "v1 = \n",
    "print(v1)\n",
    "# v2 = A.T @ u\n",
    "# print(v2)"
   ]
  },
  {
   "cell_type": "markdown",
   "id": "96f1bcd2-35a7-47fd-a86c-310227b9c7e8",
   "metadata": {},
   "source": [
    "Berechnen Sie mit `np.inner`, `np.linalg.norm`, `np.cross` und `np.dot` das Skalar- (=inneres) Produkt $(u, v)_2$, die Norm $\\|u\\|_2$ und das Kreuzprodukt $u \\times v$."
   ]
  },
  {
   "cell_type": "code",
   "execution_count": null,
   "id": "b29253a2-5cc4-48f0-ae07-16adc70114cd",
   "metadata": {},
   "outputs": [],
   "source": [
    "v1 = \n",
    "v2 = \n",
    "v3 = \n",
    "print(v1, v2, v3)"
   ]
  },
  {
   "cell_type": "markdown",
   "id": "2e7e233b-a0bc-486a-bd50-608b014608d7",
   "metadata": {},
   "source": [
    "Berechnen Sie `u * v`, `B * B` und `np.dot(B,B)` und erschließen Sie daraus die hierbei durchgeführte Array-Operation"
   ]
  },
  {
   "cell_type": "code",
   "execution_count": null,
   "id": "92f19ccd-8886-44fe-be2f-64804b8a843c",
   "metadata": {},
   "outputs": [],
   "source": [
    "B = np.array([[1., 3], [2, 4]])\n",
    "print(B)\n",
    "print(...)"
   ]
  },
  {
   "cell_type": "markdown",
   "id": "0d232608-15b2-4200-a0c2-78f65fe8a55f",
   "metadata": {},
   "source": [
    "Lassen Sie sich die Länge des Vektors $u$ mit der Funktion `size` ausgeben, ebenso die Dimensionen von $A$ mittels `A.shape`.\n",
    "> **Hinweis**: `(n,m) = A.shape` weist Zeilen- und Spaltenanzahl zu, `n = A.shape[0]` nur die Zeilenanzahl."
   ]
  },
  {
   "cell_type": "code",
   "execution_count": null,
   "id": "215d51c6-5464-4d19-9457-422666bb1b7f",
   "metadata": {},
   "outputs": [],
   "source": [
    "print(u.size)\n",
    "print(A.shape)\n",
    "(n, m) = A.shape\n",
    "print(n, m)"
   ]
  },
  {
   "cell_type": "markdown",
   "id": "8c7e4b9c-3158-4b01-8a0f-67472d90e769",
   "metadata": {},
   "source": [
    "Auf ein bestimmtes Element des Arrays greift man mit `[]` zu: `u[1]` liefert die `5.0`, `A[1,2]` die Komponente $A_{23}$.\n",
    "> Indizes beginnen unter Python bei 0, nicht bei 1!"
   ]
  },
  {
   "cell_type": "code",
   "execution_count": null,
   "id": "e7f68920-e664-4c67-aa8a-f3af28806b64",
   "metadata": {},
   "outputs": [],
   "source": [
    "print(u[1])\n",
    "print(A[1, 2])"
   ]
  },
  {
   "cell_type": "markdown",
   "id": "a20dec43-122c-4f17-bc81-4d704afac178",
   "metadata": {},
   "source": [
    "Eine weitere Eigenart der Python-Indizierung: `u[0:2]` ist ein neues Array mit den Einträgen `u[0]` und `u[1]`, aber ohne `u[2]`.\n",
    "\n",
    "Geben Sie auf diese Weise die Teilmatrix\n",
    "$$\n",
    "\\begin{bmatrix}\n",
    "A_{12} & A_{13} \\\\\n",
    "A_{22} & A_{23}\n",
    "\\end{bmatrix}\n",
    "$$\n",
    "aus.\n",
    "\n",
    "Weiteres Beispiel: Das Dreifache der ersten Zeile zur zweiten Zeile addieren:\n",
    "```\n",
    "A[1,:] = A[1,:] + 3 * A[0,:]\n",
    "```\n",
    "\n",
    "> Wenn möglich, einen solchen vektorisierten Programmierstil verwenden; for- und while-\n",
    "Schleifen sind relativ langsam und verhindern übersichtlichen Code."
   ]
  },
  {
   "cell_type": "code",
   "execution_count": null,
   "id": "9b8442c0-3c88-4c3d-bc5c-96e35567de45",
   "metadata": {},
   "outputs": [],
   "source": [
    "print(A[0:...])"
   ]
  },
  {
   "cell_type": "markdown",
   "id": "9ce1f961-0724-43d1-94dc-91d502ab6264",
   "metadata": {},
   "source": [
    "Definieren Sie ein neues Array $C = A$.\n",
    "\n",
    "**Achtung**: Dabei wird nur eine neue Referenz zu `A` angelegt. Das überprüfe man durch Manipulation `A[0,0] = 4.6` und anschließender Ausgabe von `C`: auch $C_{11}$ wurde mitmanipuliert! Eine \"unabhängige Kopie\" erhält man durch die Methode `.copy()`: `C = A.copy()` (ausprobieren).\n",
    "\n",
    "> Eine Nichtbeachtung dieses Umstands kann zu schwer auffindbaren Programmierfehlern führe"
   ]
  },
  {
   "cell_type": "code",
   "execution_count": null,
   "id": "a5e103d0-012c-404a-af03-5e4d7e27dfdf",
   "metadata": {},
   "outputs": [],
   "source": [
    "C = A\n",
    "print(C)\n",
    "A[0,0] = A[0, 0] + 3.6\n",
    "print(C)"
   ]
  },
  {
   "cell_type": "markdown",
   "id": "c653bc20-9b82-468e-a320-ef0f55c828b8",
   "metadata": {},
   "source": [
    "Machen Sie sich mit dem Befehl np.eye vertraut und definieren Sie damit die tridiagonale (und reguläre) Matrix\n",
    "$$\n",
    "M =\n",
    "\\begin{bmatrix}\n",
    "2 & −1 & 0 \\\\\n",
    "−1 & 2 & −1 \\\\\n",
    "0 & −1 & 2\n",
    "\\end{bmatrix}\n",
    "$$\n",
    "als Summe dreier Matrizen."
   ]
  },
  {
   "cell_type": "code",
   "execution_count": null,
   "id": "22bc2fe1-8bbf-4504-8dab-573c51f423bb",
   "metadata": {},
   "outputs": [],
   "source": [
    "print(np.eye(4))\n",
    "print(np.eye(2, k=1))\n",
    "M = np.eye(3)\n",
    "print(M)"
   ]
  },
  {
   "cell_type": "markdown",
   "id": "f116866e-dc40-43e5-821f-b4f4f7b1786a",
   "metadata": {},
   "source": [
    "Lösen Sie das lineare Gleichungssystem $M z = u$ mittels `np.linalg.solve`."
   ]
  },
  {
   "cell_type": "code",
   "execution_count": null,
   "id": "aaef7099-a75f-475f-95de-c3b6d59ed1dd",
   "metadata": {},
   "outputs": [],
   "source": [
    "z = \n",
    "print(z)"
   ]
  },
  {
   "cell_type": "markdown",
   "id": "10a64269-60f0-41b7-b494-14954e1531d5",
   "metadata": {},
   "source": [
    "Weitere häufig verwendete NumPy-Funktionen sind `np.zeros` (`np.zeros(5)` liefert einen Nullvektor der Länge 5, `np.zeros((4,2))` ein ($4 \\times 2$)-Nullarray), `np.ones` und das nützliche `np.zeros_like`, das sich zum Initialisieren eines Arrays eignet."
   ]
  },
  {
   "cell_type": "markdown",
   "id": "28e81a79-9597-44b7-935d-0752986e5708",
   "metadata": {},
   "source": [
    "## Definition von Funktionen\n",
    "\n",
    "Python-Programme haben eine hierarchisch gegliederte Form: Umgebungen müssen eingerückt werden (das C -Pendant wären geschwungene Klammern um die Umgebung). Standardmäßig sind das vier Leerzeichen, was nebenbei die Übersichtlichkeit des Codes erhöht. Vermeiden Sie Tabulatoren, denn die können auf einem anderen System andere Positionen einnehmen. Mit def startende Funktionsdefinitionen, if-Verzweigungen sowie for-, und while-Schleifen enden in ihrer ersten Zeile mit einem Doppelpunkt. Output-Argumente einer Funktion werden am Ende mit return zurückgegeben, bei mehreren Argumenten setzt man diese mit Kommata voneinander ab. Finden Sie den Fehler in folgendem Beispielprogramm, das zu $n$ den Output\n",
    "$$\n",
    "s_n = \\sum_{i=1}^n i \\quad\\text{und}\\quad q_n = \\prod_{i=1}^n 1/i\n",
    "$$\n",
    "berechnen soll."
   ]
  },
  {
   "cell_type": "code",
   "execution_count": null,
   "id": "cb070a1b-dd3d-4a04-a525-e3b36ba59bb2",
   "metadata": {},
   "outputs": [],
   "source": [
    "# Funktionsdefinition\n",
    "def meineFunktion(n):\n",
    "    s = 0\n",
    "    q = 1\n",
    "    for i in range(n): # i durchlaeuft 1 , ... , n (!)\n",
    "        s += i\n",
    "        q /= i\n",
    "    if q == 0:         # Es gibt == , < , > , <= , >= , !=\n",
    "        raise ValueError('Fehler bei der Berechnung')\n",
    "    return s, q\n",
    "\n",
    "# Skript, welches obige Funktion aufruft\n",
    "n = 12\n",
    "s, q = meineFunktion(n)\n",
    "text = 'Ergebnis zu n = %d: s = %d, q = %.3e\\n'\n",
    "print(text % (n, s, q))"
   ]
  }
 ],
 "metadata": {
  "kernelspec": {
   "display_name": "Python 3 (ipykernel)",
   "language": "python",
   "name": "python3"
  },
  "language_info": {
   "codemirror_mode": {
    "name": "ipython",
    "version": 3
   },
   "file_extension": ".py",
   "mimetype": "text/x-python",
   "name": "python",
   "nbconvert_exporter": "python",
   "pygments_lexer": "ipython3",
   "version": "3.10.12"
  }
 },
 "nbformat": 4,
 "nbformat_minor": 5
}
